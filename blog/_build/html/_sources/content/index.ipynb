{
 "cells": [
  {
   "cell_type": "markdown",
   "metadata": {},
   "source": [
    "<div style=\"float: right;\">\n",
    "\n",
    "<a href=\"https://pomodoren.github.io\" style=\"color:teal\">pomodoren</a> \n",
    "</div>\n",
    "\n",
    "## <span style=\"color:teal;font-weight:bold;\">open-labs presentations </span>\n",
    "\n",
    "- **2023.11**: OSINT for Journalists. <b>#mapCyber</b>\n",
    "  - <a href=\"../images/OSINT%20for%20Journalists.pdf\" style=\"color:teal\">Presentation</a>\n",
    "  - <a href=\"https://wiki.openlabs.cc/index.php?title=CryptoParty_Tirana_04/11/2023\" style=\"color:teal\">Link to event</a>\n",
    "- **2023.09**: How can Open-Mobility support Disaster Risk Management?  <b>#mapRisk</b>&nbsp;<b style=\"color:red\">#OSCAL23</b>\n",
    "  - <a href=\"2023-09-03-risk-OSCAL.slides.html\" style=\"color:teal\">Presentation</a>\n",
    "  - <a href=\"https://forum.openlabs.cc/t/heat-wave-risk-mapping-forests/2881\" style=\"color:teal\">Forum</a>\n",
    "- **2023.08**: Improving urban mobility through FLOSS and Open Data. <b>#mapBus</b>\n",
    "  - <a href=\"2023-08-03-transport-OSS and Mobility.slides.html\" style=\"color:teal\">Presentation</a>\n",
    "  - <a href=\"https://forum.openlabs.cc/t/open-source-software-for-mobility/2877\" style=\"color:teal\">Forum</a>\n",
    "- **2023.01**: Let's talk about Neuroscience! <b>#mapBrain</b>\n",
    "  - <a href=\"2023-01-17-neuro-The Spongy Brain.slides.html\" style=\"color:teal\"> Presentation </a>\n",
    "  - <a href=\"https://forum.openlabs.cc/t/coffee-meetup-lets-talk-about-neuroscience/2756\" style=\"color:teal\"> Forum </a>\n",
    "  \n",
    "<a href=\"https://github.com/pomodoren/open-labs\" style=\"color:teal\">Find code @github</a>  \n",
    "*Don't forget to press pg-down through the slides*"
   ]
  }
 ],
 "metadata": {
  "kernelspec": {
   "display_name": "Python 3 (ipykernel)",
   "language": "python",
   "name": "python3"
  },
  "language_info": {
   "name": "python"
  }
 },
 "nbformat": 4,
 "nbformat_minor": 2
}
